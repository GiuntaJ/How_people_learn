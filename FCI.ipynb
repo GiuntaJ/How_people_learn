{
 "cells": [
  {
   "cell_type": "markdown",
   "metadata": {},
   "source": [
    "# Welcome in this Force Concept Inventory!\n",
    "When going through this notebook, you will have to answer multiple choice questions to grasp how well you are doing with forces in Physics.\n",
    "\n",
    "For that, you need to know some basic stuff on how to handle a Jupyter Notebook. \n",
    "\n",
    "This notebook is made of text cells and code cells. The code cells have to be <strong>executed</strong> to see the result of the program. To execute a cell, simply select it and click on the \"play\" button (<span style=\"font: bold 12px/30px Arial, serif;\">&#9658;</span>) in the tool bar just above the notebook, or type <code>shift + enter</code>. It is important to execute the code cells in their order of appearance in the notebook.\n",
    "</div>\n",
    "\n",
    "An example might be the best way to understand!"
   ]
  },
  {
   "cell_type": "markdown",
   "metadata": {},
   "source": [
    "## Example question to test Noto\n",
    "\n",
    "Here you can see some **text**. You will see something similar for the following questions.\n",
    "\n",
    "You might also see some **images** to describe the situation you need to know about before answering a question, like this :\n",
    "\n",
    "<img src=\"images/test.png\"/>\n",
    "\n",
    "_Then, you will see a question, in italic. Do you get it?_\n"
   ]
  },
  {
   "cell_type": "code",
   "execution_count": 2,
   "metadata": {},
   "outputs": [],
   "source": [
    "# The next thing you will need to do, \n",
    "# is to execute this cell by clicking on the \"play\" button in the tool bar just above the notebook, \n",
    "# or type shift + enter\n",
    "\n",
    "from mcq import *\n",
    "#TestQuestion()"
   ]
  },
  {
   "cell_type": "markdown",
   "metadata": {},
   "source": [
    "## Question 1"
   ]
  },
  {
   "cell_type": "markdown",
   "metadata": {},
   "source": [
    "A **heavy ball** is **attached** to a string and **swung in a circular path in a horizontal plane** as illustrated in the diagram below. At the point indicated in the diagram, **the string suddenly breaks** at the ball. \n",
    "\n",
    "<img src=\"images/q4_sketch.png\" width=400 align='center'/>\n",
    "\n",
    "_Can you draw the forces acting?_\n",
    "\n",
    "_If these events were observed from directly **above**, indicate the **path of the ball after the string brakes**._"
   ]
  },
  {
   "cell_type": "code",
   "execution_count": 3,
   "metadata": {},
   "outputs": [
    {
     "data": {
      "application/vnd.jupyter.widget-view+json": {
       "model_id": "9f57b74f24864b98a6bbe09b2b9b64ac",
       "version_major": 2,
       "version_minor": 0
      },
      "text/plain": [
       "VBox(children=(RadioButtons(layout=Layout(width='max-content'), options=(('A', 0), ('B', 1), ('C', 2), ('D', 3…"
      ]
     },
     "metadata": {},
     "output_type": "display_data"
    }
   ],
   "source": [
    "# To answer the first question, \n",
    "# you need to execute this cell by clicking on the \"play\" button in the tool bar just above the notebook, \n",
    "# or type shift + enter\n",
    "\n",
    "MCQQuestion1()"
   ]
  },
  {
   "cell_type": "markdown",
   "metadata": {},
   "source": [
    "## Question 2\n",
    "\n",
    "When responding to the following question, assume that any **frictional forces due to air resistance** are so small that the **can be ignored**.\n",
    "\n",
    "An elevator, as illustrated, is being **lifted up** an elevator shaft by a steel cable.\n",
    "\n",
    "<img src=\"images/q18_sketch.png\" width=400 align=\"center\"/>\n",
    "\n",
    "_When the elevator is moving up the shaft at a **constant velocity**:_\n",
    "\n",
    "* A. The upward force on the elevator by the cable is greater than the download force of gravity.\n",
    "* B. The amount of upward force on the elevator by the cable equals to that of the downward force of gravity.\n",
    "* C. The upward force of the elevator by the cable is less than the downward force of gravity.\n",
    "* D. It goes up because the cables is being shortened, not because of the force being exerted on the elevator by the cable.\n",
    "* E. The upward force on the elevator by the cable is greater than the downward force due to the combined effects of air pressure and the force of gravity."
   ]
  },
  {
   "cell_type": "code",
   "execution_count": null,
   "metadata": {},
   "outputs": [],
   "source": [
    "# To answer the 2nd question, \n",
    "# you need to execute this cell by clicking on the \"play\" button in the tool bar just above the notebook, \n",
    "# or type shift + enter\n",
    "\n",
    "MCQQuestion2()"
   ]
  },
  {
   "cell_type": "markdown",
   "metadata": {},
   "source": [
    "## Question 3\n",
    "\n",
    "A golf ball driven down a fairway is observed to travel through the air with a **trajectory (flight path)** similar to that in the depiction below.\n",
    "\n",
    "<img src=\"images/q22_sketch.png\" width=800 align=\"center\"/>\n",
    "\n",
    "_Which following **force(s)** is(are) acting on the golf ball **during its entire flight**?_\n",
    "1. The force of **gravity**\n",
    "2. The force of the **“hit”**\n",
    "3. The force of **air resistance**"
   ]
  },
  {
   "cell_type": "code",
   "execution_count": null,
   "metadata": {},
   "outputs": [],
   "source": [
    "# To answer the 3rd question, \n",
    "# you need to execute this cell by clicking on the \"play\" button in the tool bar just above the notebook, \n",
    "# or type shift + enter\n",
    "\n",
    "MCQQuestion3()"
   ]
  },
  {
   "cell_type": "markdown",
   "metadata": {},
   "source": [
    "## Question 4\n",
    "\n",
    "A bowling ball accidentally falls out of the cargo bay of an airliner as it flies along in a **horizontal direction**. \n",
    "\n",
    "<img src=\"images/q23_sketch.png\" width=400 align=\"center\"/>\n",
    "\n",
    "_**As seen from the ground**, which path would the bowling ball most closely follow after leaving the plane?_"
   ]
  },
  {
   "cell_type": "code",
   "execution_count": null,
   "metadata": {},
   "outputs": [],
   "source": [
    "# To answer the 4th question, \n",
    "# you need to execute this cell by clicking on the \"play\" button in the tool bar just above the notebook, \n",
    "# or type shift + enter\n",
    "\n",
    "MCQQuestion4()"
   ]
  },
  {
   "cell_type": "markdown",
   "metadata": {},
   "source": [
    "## Question 5\n",
    "\n",
    "A large box is being **pushed** across the floor at a **constant speed at 4.0 m/s**.\n",
    "\n",
    "_What can you conclude about the **forces** acting on the box?_"
   ]
  },
  {
   "cell_type": "code",
   "execution_count": null,
   "metadata": {},
   "outputs": [],
   "source": [
    "# To answer the 5th question, \n",
    "# you need to execute this cell by clicking on the \"play\" button in the tool bar just above the notebook, \n",
    "# or type shift + enter\n",
    "\n",
    "MCQQuestion5()"
   ]
  },
  {
   "cell_type": "markdown",
   "metadata": {},
   "source": [
    "### Use the statement and diagram below to answer the next two questions (question 6 and question 7): \n",
    "\n",
    "<img src=\"images/puck_sketch.png\" width=400 align=\"center\"/>\n",
    "\n",
    "The diagram depicts a hockey puck **sliding** with a **constant velocity**, from point “a” to point “b” along a **frictionless horizontal surface**. When the puck reaches point “b”, it receives an instantaneous **horizontal “kick” in the direction of the heavy print arrow**."
   ]
  },
  {
   "cell_type": "markdown",
   "metadata": {},
   "source": [
    "## Question 6\n",
    "\n",
    "<img src=\"images/q6_sketch.png\" width=800 align=\"center\"/>\n",
    "\n",
    "_Along which of the paths below will the hockey puck move **after receiving the “kick”**?_"
   ]
  },
  {
   "cell_type": "code",
   "execution_count": 4,
   "metadata": {},
   "outputs": [
    {
     "data": {
      "application/vnd.jupyter.widget-view+json": {
       "model_id": "b6799ffe82cc4ec7953d06fdaa0f7b44",
       "version_major": 2,
       "version_minor": 0
      },
      "text/plain": [
       "VBox(children=(RadioButtons(layout=Layout(width='max-content'), options=(('A', 0), ('B', 1), ('C', 2), ('D', 3…"
      ]
     },
     "metadata": {},
     "output_type": "display_data"
    }
   ],
   "source": [
    "# To answer the 6th question, \n",
    "# you need to execute this cell by clicking on the \"play\" button in the tool bar just above the notebook, \n",
    "# or type shift + enter\n",
    "\n",
    "MCQQuestion6()"
   ]
  },
  {
   "cell_type": "markdown",
   "metadata": {},
   "source": [
    "## Question 7\n",
    "\n",
    "_The **speed** of the puck just **after it receives the “kick”** is :_"
   ]
  },
  {
   "cell_type": "code",
   "execution_count": 5,
   "metadata": {},
   "outputs": [
    {
     "data": {
      "application/vnd.jupyter.widget-view+json": {
       "model_id": "eb87e9510258463cbea02f8d00df6c19",
       "version_major": 2,
       "version_minor": 0
      },
      "text/plain": [
       "VBox(children=(RadioButtons(layout=Layout(width='max-content'), options=(('Equal to the speed “Vo” it had befo…"
      ]
     },
     "metadata": {},
     "output_type": "display_data"
    }
   ],
   "source": [
    "# To answer the 7th question, \n",
    "# you need to execute this cell by clicking on the \"play\" button in the tool bar just above the notebook, \n",
    "# or type shift + enter\n",
    "\n",
    "MCQQuestion7()"
   ]
  },
  {
   "cell_type": "markdown",
   "metadata": {},
   "source": [
    "### When answering the next two questions (question 8 and question 9), refer to the following statement and diagram : \n",
    "\n",
    "<img src=\"images/rocket_sketch.png\" width=600 align=\"center\"/>\n",
    "\n",
    "A rocket, **drifting sideways** in outer space **from position \"a\" to position \"b\"**, is subject to **no outside forces**. **At \"b\"**, the rocket's engine starts to produce a **constant thrust at right angles to line \"ab\"**. The engine **turns off** again as the rocket reaches some **point \"c\"**."
   ]
  },
  {
   "cell_type": "markdown",
   "metadata": {},
   "source": [
    "## Question 8\n",
    "\n",
    "<img src=\"images/q24_sketch.png\" width=800 align=\"center\"/>\n",
    "\n",
    "_Which path in the diagram best represents the path of the rocket **between \"b\" and \"c\"**?_"
   ]
  },
  {
   "cell_type": "code",
   "execution_count": null,
   "metadata": {},
   "outputs": [],
   "source": [
    "# To answer the 8th question, \n",
    "# you need to execute this cell by clicking on the \"play\" button in the tool bar just above the notebook, \n",
    "# or type shift + enter\n",
    "\n",
    "MCQQuestion8()"
   ]
  },
  {
   "cell_type": "markdown",
   "metadata": {},
   "source": [
    "## Question 9\n",
    "\n",
    "**At \"c\"**, the rocket's **engine is turned off**.\n",
    "\n",
    "<img src=\"images/q26_sketch.png\" width=800 align=\"center\"/>\n",
    "\n",
    "_Which of the path in the diagram will the rocket follow **beyond \"c\"**?_"
   ]
  },
  {
   "cell_type": "code",
   "execution_count": null,
   "metadata": {},
   "outputs": [],
   "source": [
    "# To answer the 9th question, \n",
    "# you need to execute this cell by clicking on the \"play\" button in the tool bar just above the notebook, \n",
    "# or type shift + enter\n",
    "\n",
    "MCQQuestion9()"
   ]
  },
  {
   "cell_type": "markdown",
   "metadata": {},
   "source": [
    "### Well done! You reached the end of this concept inventory\n",
    "\n",
    "We hope you could discover some of the difficulties you have in Physics and that you will be able to focus on them so you won't do the same mistakes again! "
   ]
  }
 ],
 "metadata": {
  "kernelspec": {
   "display_name": "Python 3",
   "language": "python",
   "name": "python3"
  },
  "language_info": {
   "codemirror_mode": {
    "name": "ipython",
    "version": 3
   },
   "file_extension": ".py",
   "mimetype": "text/x-python",
   "name": "python",
   "nbconvert_exporter": "python",
   "pygments_lexer": "ipython3",
   "version": "3.8.2"
  }
 },
 "nbformat": 4,
 "nbformat_minor": 4
}
